{
 "cells": [
  {
   "cell_type": "markdown",
   "id": "9a860ad6",
   "metadata": {},
   "source": [
    "########## THEORY QUESTIONS ##########"
   ]
  },
  {
   "cell_type": "markdown",
   "id": "abe26b3b",
   "metadata": {},
   "source": [
    "Question = 1 >>> What is statistics, and why is it important?"
   ]
  },
  {
   "cell_type": "markdown",
   "id": "c4cff5e9",
   "metadata": {},
   "source": [
    "Ans = Statistics is a branch of mathematics focused on collecting, analyzing, interpreting, and presenting data. It's important because it helps us understand patterns, make informed decisions, and draw meaningful conclusions from information, even when it's complex or uncertain. \n",
    "Here's a more detailed look at its importance:\n",
    "1. Understanding Data: Statistics provides tools and methods to summarize and interpret data, revealing trends, patterns, and relationships that might not be obvious from raw data alone. \n",
    "2. Making Informed Decisions: By analyzing data, statistics helps individuals and organizations make better decisions in various fields, including business, healthcare, and public policy. \n",
    "3. Predicting the Future: Statistical models can be used to forecast future events based on past trends and patterns, enabling proactive planning and risk management. \n",
    "4. Drawing Conclusions from Samples: Inferential statistics allows us to make generalizations about a larger population based on data collected from a smaller sample, which is crucial when studying large groups. \n",
    "5. Validating Hypotheses: Statistics provides methods for testing hypotheses and determining the likelihood that observed results are due to chance or a real effect. \n",
    "6. Improving Research: Statistical analysis is essential for conducting research, evaluating outcomes, and developing critical thinking skills. \n",
    "7. Communication and Presentation: Statistics helps in presenting data in a clear and understandable manner, using graphs, charts, and other visual aids. \n",
    "In essence, statistics provides a framework for making sense of the world around us by transforming raw data into actionable insights. "
   ]
  },
  {
   "cell_type": "markdown",
   "id": "1678d4bc",
   "metadata": {},
   "source": [
    "Question = 2 >>> What are the two main types of statistics?"
   ]
  },
  {
   "cell_type": "markdown",
   "id": "0ebb1a9c",
   "metadata": {},
   "source": [
    "Ans = The two main types of statistics are descriptive statistics and inferential statistics. \n",
    "Descriptive statistics summarizes and organizes data from a sample or population using measures like mean, median, standard deviation, etc. It provides a snapshot of the data's key characteristics. \n",
    "Inferential statistics, on the other hand, uses sample data to draw conclusions and make predictions about a larger population. It involves techniques like hypothesis testing and confidence intervals. \n",
    "\n",
    "In simpler terms:\n",
    "\n",
    "Descriptive statistics: describes the data you have. \n",
    "\n",
    "Inferential statistics: uses that data to make generalizations or predictions about a larger group. \n"
   ]
  },
  {
   "cell_type": "markdown",
   "id": "fdc2b9e8",
   "metadata": {},
   "source": [
    "Question = 3 >>> What are descriptive statistics?"
   ]
  },
  {
   "cell_type": "markdown",
   "id": "5c9b8281",
   "metadata": {},
   "source": [
    "Ans = Descriptive vs inferential statistics: an overview - Students 4 ...Descriptive statistics are used to summarize, organize, and describe the characteristics of a dataset in a meaningful way, without making inferences about a larger population. They focus on presenting the main features of the data through measures of central tendency, variability, and distribution shape. \n",
    "\n",
    "Key aspects of descriptive statistics: \n",
    "\n",
    "Summarization:\n",
    "\n",
    "Descriptive statistics condense large datasets into simpler, more manageable forms, such as tables, charts, and summary statistics. \n",
    "\n",
    "Description:\n",
    "\n",
    "They describe the characteristics of the data, including measures of central tendency (mean, median, mode), measures of variability (range, variance, standard deviation), and shape of the distribution (skewness, kurtosis). \n",
    "\n",
    "Purpose:\n",
    "\n",
    "The primary goal is to provide a clear and concise summary of the data, enabling researchers to understand patterns, trends, and distributions within the dataset. \n",
    "\n",
    "No Inference:\n",
    "\n",
    "Unlike inferential statistics, descriptive statistics do not draw conclusions or make generalizations about a larger population based on the sample data. \n",
    "\n",
    "Examples of descriptive statistics: \n",
    "\n",
    "Measures of Central Tendency:\n",
    "\n",
    "Mean: The average of a dataset. \n",
    "\n",
    "Median: The middle value in a sorted dataset. \n",
    "\n",
    "Mode: The most frequent value in a dataset. \n",
    "\n",
    "Measures of Variability:\n",
    "\n",
    "Range: The difference between the highest and lowest values. \n",
    "\n",
    "Variance: A measure of how spread out the data is. \n",
    "\n",
    "Standard Deviation: The square root of the variance, also indicating spread. \n",
    "\n",
    "Other Measures:\n",
    "\n",
    "Frequency: How often a particular value occurs. \n",
    "\n",
    "Percentiles and Quartiles: Dividing the data into sections to show position. \n",
    "\n",
    "Graphical Representations: Histograms, bar charts, pie charts, scatter plots, etc., are used to visualize the data. \n",
    "\n",
    "In essence, descriptive statistics are used to paint a picture of the data you have, without making claims about a larger group. \n"
   ]
  },
  {
   "cell_type": "markdown",
   "id": "1d71eb1c",
   "metadata": {},
   "source": [
    "Question = 4 >>> What is inferential statistics?"
   ]
  },
  {
   "cell_type": "markdown",
   "id": "c3fdfe75",
   "metadata": {},
   "source": [
    "Ans = Inferential statistics is a branch of statistics that uses sample data to draw conclusions or make predictions about a larger population. It involves using statistical techniques to generalize findings from a sample to the entire population from which the sample was drawn. \n",
    "\n",
    "Here's a more detailed explanation:\n",
    "\n",
    "Key Concepts:\n",
    "\n",
    "Population: The entire group of individuals, objects, or items that a researcher is interested in studying. \n",
    "\n",
    "Sample: A subset of the population that is selected for analysis. \n",
    "\n",
    "Descriptive Statistics: Summarizes and describes the characteristics of the sample data. \n",
    "\n",
    "Inferential Statistics: Uses sample data to make inferences and generalizations about the population. \n",
    "\n",
    "How it works:\n",
    "\n",
    "Data Collection: Data is collected from a sample of the population.\n",
    "\n",
    "Statistical Analysis: Various statistical techniques (like hypothesis testing, confidence intervals, regression analysis) are applied to the sample data to analyze patterns and relationships.\n",
    "\n",
    "Inference: Based on the analysis of the sample data, conclusions are drawn and predictions are made about the population. \n",
    "\n",
    "Example:\n",
    "\n",
    "Imagine a researcher wants to know the average height of all students in a large university. It's not feasible to measure every student's height. Instead, they might select a random sample of students, measure their heights, and then use inferential statistics to estimate the average height of all students in the university. \n",
    "\n",
    "Purpose:\n",
    "\n",
    "Generalization: To extend findings from a sample to a larger population. \n",
    "\n",
    "Hypothesis Testing: To test claims or hypotheses about the population based on sample data. \n",
    "\n",
    "Prediction: To make predictions about future outcomes based on past data. \n",
    "\n",
    "In essence, inferential statistics allows researchers to go beyond simply describing the data they have and make informed conclusions about the larger group they are interested in, even with limited data. \n"
   ]
  },
  {
   "cell_type": "markdown",
   "id": "79c0713a",
   "metadata": {},
   "source": [
    "Question = 5 >>> What is sampling in statistics?"
   ]
  },
  {
   "cell_type": "markdown",
   "id": "6159d5f4",
   "metadata": {},
   "source": [
    "Ans = In statistics, sampling is the process of selecting a subset of individuals or data points from a larger population to study and draw conclusions about the entire population. It's used when it's impractical or impossible to analyze the whole population due to size, cost, or time constraints. \n",
    "\n",
    "Here's a more detailed explanation:\n",
    "\n",
    "Why sample?\n",
    "\n",
    "Feasibility:\n",
    "\n",
    "Analyzing the entire population is often too expensive, time-consuming, or physically impossible. \n",
    "\n",
    "Efficiency:\n",
    "\n",
    "Sampling allows researchers to gather data and make inferences about the population more quickly and cost-effectively. \n",
    "\n",
    "Destructive testing:\n",
    "\n",
    "Sometimes, testing a sample destroys the item being tested, making it impossible to test the entire population. \n",
    "\n",
    "Inferences:\n",
    "\n",
    "Well-chosen samples can accurately represent the characteristics of the larger population, allowing researchers to make informed decisions and predictions. \n",
    "\n",
    "Key concepts in sampling: \n",
    "\n",
    "Population:\n",
    "\n",
    "The entire group of individuals or items that a researcher is interested in. \n",
    "\n",
    "Sample:\n",
    "\n",
    "A subset of the population that is selected for analysis. \n",
    "Sampling frame:\n",
    "\n",
    "A list of all the individuals or items in the population from which the sample will be drawn. \n",
    "\n",
    "Sampling methods:\n",
    "\n",
    "Different techniques used to select a sample from the population, such as random sampling, stratified sampling, or cluster sampling. \n",
    "\n",
    "Sample statistic:\n",
    "\n",
    "A numerical value calculated from the sample data (e.g., sample mean, sample standard deviation). \n",
    "\n",
    "Sampling error:\n",
    "\n",
    "The difference between the sample statistic and the true population parameter. \n",
    "\n",
    "Types of sampling methods:\n",
    "\n",
    "Probability sampling:\n",
    "\n",
    "Uses random selection, ensuring each member of the population has a known chance of being selected. This allows for statistical inference and minimizes bias. \n",
    "\n",
    "Non-probability sampling:\n",
    "\n",
    "Relies on non-random selection methods, often based on convenience or specific criteria. While easier to implement, it may introduce bias and limit generalizability. \n",
    "\n",
    "In essence, sampling is a crucial tool in statistics that allows researchers to make informed decisions about large populations by studying smaller, representative subsets. \n"
   ]
  },
  {
   "cell_type": "markdown",
   "id": "9730acc2",
   "metadata": {},
   "source": [
    "Question = 6 >>> What are the different types of sampling methods?"
   ]
  },
  {
   "cell_type": "markdown",
   "id": "faa644ff",
   "metadata": {},
   "source": [
    "Ans = Sampling methods can be broadly categorized into probability (or random) sampling and non-probability (or non-random) sampling. Within each category, there are several specific techniques. \n",
    "Probability Sampling Methods:\n",
    "\n",
    "Simple Random Sampling:\n",
    "Every member of the population has an equal and random chance of being selected. \n",
    "\n",
    "Stratified Sampling:\n",
    "The population is divided into subgroups (strata), and then random samples are drawn from each stratum. \n",
    "\n",
    "Cluster Sampling:\n",
    "The population is divided into clusters, and then some clusters are randomly selected, with all individuals within those clusters being included in the sample. \n",
    "\n",
    "Systematic Sampling:\n",
    "\n",
    "A random starting point is selected, and then every k-th element is chosen for the sample. \n",
    "\n",
    "Non-Probability Sampling Methods:\n",
    "\n",
    "Convenience Sampling:\n",
    "Individuals are selected based on their ease of accessibility. \n",
    "\n",
    "Quota Sampling:\n",
    "The population is divided into subgroups, and then a predetermined number of individuals (a quota) are selected from each subgroup. \n",
    "Purposive Sampling:\n",
    "Individuals are selected based on specific characteristics or criteria relevant to the research question. \n",
    "\n",
    "Snowball Sampling:\n",
    "\n",
    "Participants are asked to recommend other potential participants who fit the study criteria. \n",
    "\n",
    "Consecutive Sampling:\n",
    "\n",
    "All individuals who meet the criteria are included in the sample, one after another. \n",
    "\n",
    "Voluntary Sampling:\n",
    "\n",
    "Individuals self-select to participate in the sample. \n",
    "Each of these methods has its own strengths and weaknesses, and the most appropriate method depends on the specific research goals and context. \n"
   ]
  },
  {
   "cell_type": "markdown",
   "id": "5f65cbac",
   "metadata": {},
   "source": [
    "Question = 7 >>> What is the difference between random and non-random sampling?"
   ]
  },
  {
   "cell_type": "markdown",
   "id": "d92898dd",
   "metadata": {},
   "source": [
    "Ans = Random and non-random sampling are two main approaches to selecting a sample from a population for research or analysis. The key difference lies in the selection process: random sampling uses chance to ensure each member has an equal opportunity of being selected, while non-random sampling uses criteria like convenience, judgment, or specific researcher choices. \n",
    "\n",
    "Random Sampling: \n",
    "\n",
    "Definition:\n",
    "\n",
    "Random sampling involves selecting individuals from a population in such a way that each member has a known and equal probability of being chosen. \n",
    "\n",
    "Example:\n",
    "\n",
    "Drawing names from a hat, or using a random number generator to select participants. \n",
    "\n",
    "Benefits:\n",
    "\n",
    "Minimizes bias, provides a representative sample, and allows for statistical inference about the population. \n",
    "\n",
    "Methods:\n",
    "\n",
    "Includes techniques like simple random sampling, stratified random sampling, cluster sampling, and systematic sampling. \n",
    "\n",
    "Limitations:\n",
    "\n",
    "Can be time-consuming and expensive, and may not always be feasible, especially if the population is difficult to define or access. \n",
    "\n",
    "Non-Random Sampling: \n",
    "\n",
    "Definition:\n",
    "\n",
    "Non-random sampling involves selecting individuals based on specific criteria, convenience, or the researcher's judgment. \n",
    "\n",
    "Example:\n",
    "\n",
    "Conducting a survey at a mall, interviewing people who are available, or selecting experts in a particular field. \n",
    "\n",
    "Benefits:\n",
    "\n",
    "Often faster and cheaper than random sampling, can be useful for exploratory studies, and may be necessary when access to a full population is limited. \n",
    "\n",
    "Methods:\n",
    "\n",
    "Includes techniques like convenience sampling, purposive sampling, quota sampling, and snowball sampling. \n",
    "\n",
    "Limitations:\n",
    "\n",
    "May introduce bias, can't generalize findings to the larger population, and may not be suitable for conclusive research. \n"
   ]
  },
  {
   "cell_type": "markdown",
   "id": "2005713b",
   "metadata": {},
   "source": [
    "Question = 8 >>> Define and give examples of qualitative and quantitative data?"
   ]
  },
  {
   "cell_type": "markdown",
   "id": "ec3dc720",
   "metadata": {},
   "source": [
    "Ans = Qualitative vs Quantitative Research: What's the Difference?Qualitative data describes qualities or characteristics that can't be measured numerically, while quantitative data describes quantities that can be measured numerically. \n",
    "\n",
    "Qualitative Data:\n",
    "\n",
    "Definition: Information that is not expressed numerically and is often used to understand the qualities, characteristics, or meanings behind something. \n",
    "\n",
    "Examples:\n",
    "\n",
    "The color of a flower (red, blue, yellow). \n",
    "\n",
    "The taste of an apple (sweet, tart, acidic). \n",
    "\n",
    "A person's opinion on a product (positive, negative, neutral). \n",
    "\n",
    "Ethnographic observations (describing cultural practices). \n",
    "Data Collection Methods: Interviews, focus groups, observations, document analysis. \n",
    "\n",
    "Quantitative Data:\n",
    "\n",
    "Definition: Information that can be expressed numerically and is used to measure or count things. \n",
    "\n",
    "Examples:\n",
    "\n",
    "Height (in inches or centimeters). \n",
    "\n",
    "Weight (in pounds or kilograms). \n",
    "\n",
    "Age (in years). \n",
    "\n",
    "The number of students in a class. \n",
    "\n",
    "Data Collection Methods: Surveys, experiments, statistical data collection. \n"
   ]
  },
  {
   "cell_type": "markdown",
   "id": "66928c9e",
   "metadata": {},
   "source": [
    "Question = 9 >>> What are the different types of data in statistics?"
   ]
  },
  {
   "cell_type": "markdown",
   "id": "99e5cf41",
   "metadata": {},
   "source": [
    "Ans = In statistics, data is broadly classified into qualitative (categorical) and quantitative (numerical) data.\n",
    "Qualitative data describes qualities or attributes, while quantitative data represents quantities or can be measured numerically. Both types have further subdivisions: \n",
    "qualitative into nominal and ordinal, and quantitative into discrete and continuous. \n",
    "\n",
    "Qualitative (Categorical) Data: \n",
    "\n",
    "Nominal:\n",
    "\n",
    "Categories without a natural order or ranking (e.g., colors, genders, types of fruits). \n",
    "\n",
    "Ordinal:\n",
    "\n",
    "Categories with a meaningful order or ranking, but the differences between categories may not be equal (e.g., survey responses on a Likert scale, rankings in a sports competition). \n",
    "\n",
    "Quantitative (Numerical) Data:\n",
    "\n",
    "Discrete:\n",
    "\n",
    "Data that can only take on specific, separate values, often whole numbers (e.g., number of cars, number of students, number of occurrences). \n",
    "\n",
    "Continuous:\n",
    "\n",
    "Data that can take any value within a given range (e.g., height, weight, temperature). \n",
    "\n",
    "Further Considerations:\n",
    "\n",
    "Interval and Ratio:\n",
    "\n",
    "Quantitative data can also be further categorized as interval (differences between values are meaningful, but there's no true zero point, e.g., temperature in Celsius) and ratio (differences between values are meaningful and there's a true zero point, e.g., height, weight). \n",
    "\n",
    "Level of Measurement:\n",
    "\n",
    "The type of data influences the appropriate statistical analysis techniques. For example, nominal data is often analyzed using frequencies and proportions, while continuous data might be analyzed using averages, standard deviations, and regression. \n"
   ]
  },
  {
   "cell_type": "markdown",
   "id": "8b3ca9bb",
   "metadata": {},
   "source": [
    "Question = 10 >>> Explain nominal, ordinal, interval, and ratio levels of measurement?"
   ]
  },
  {
   "cell_type": "markdown",
   "id": "664c2649",
   "metadata": {},
   "source": [
    "Ans = Levels of Measurement: Nominal, Ordinal, Interval and RatioThe four levels of measurement, from least to most sophisticated, are nominal, ordinal, interval, and ratio. Each level builds upon the previous one, adding more information about the data. \n",
    "1. Nominal:\n",
    "Definition: Nominal scales categorize data into distinct groups or labels without any inherent order or ranking. \n",
    "Examples: Colors (red, blue, green), types of fruit (apple, banana, orange), or yes/no responses. \n",
    "Analysis: Only frequency counts and percentages can be calculated. \n",
    "2. Ordinal:\n",
    "Definition: Ordinal scales categorize and rank data, indicating relative position or order, but the intervals between ranks are not necessarily equal. \n",
    "Examples: Ranking movie preferences (1st, 2nd, 3rd), customer satisfaction levels (very dissatisfied, dissatisfied, neutral, satisfied, very satisfied), or educational levels (high school, bachelor's, master's). \n",
    "Analysis: Can calculate median, percentiles, and other rank-based statistics. \n",
    "3. Interval:\n",
    "Definition: Interval scales have all the characteristics of ordinal scales, but the intervals between values are equal and meaningful. \n",
    "Examples: Temperature in Celsius or Fahrenheit, calendar years. \n",
    "Analysis: Can perform arithmetic operations like addition and subtraction, but ratios are not meaningful. \n",
    "4. Ratio: \n",
    "Definition: Ratio scales have all the characteristics of interval scales, plus a true zero point, allowing for meaningful ratios.\n",
    "Examples: Height, weight, age, income.\n",
    "Analysis: Can perform all arithmetic operations, including multiplication and division.\n",
    "\n",
    "In essence: \n",
    "Nominal scales are for naming or labeling.\n",
    "Ordinal scales add order or ranking.\n",
    "Interval scales add equal intervals between values.\n",
    "Ratio scales add a true zero point.\n"
   ]
  },
  {
   "cell_type": "markdown",
   "id": "a89eaa00",
   "metadata": {},
   "source": [
    "Question = 11 >>> What is the measure of central tendency?"
   ]
  },
  {
   "cell_type": "markdown",
   "id": "8fddb7dd",
   "metadata": {},
   "source": [
    "Ans = Measures of Central Tendency & ExamplesA measure of central tendency is a single value that attempts to describe a set of data by identifying the central position within that set of data. It's a way to summarize a dataset with a representative value that indicates where the \"middle\" or \"center\" of the data lies. The three most common measures of central tendency are the mean, median, and mode. \n",
    "Here's a breakdown of each:\n",
    "\n",
    "Mean:\n",
    "The average of a dataset, calculated by summing all values and dividing by the number of values.\n",
    "\n",
    "Median:\n",
    "The middle value in a dataset when the values are arranged in order.\n",
    "\n",
    "Mode:\n",
    "The value that appears most frequently in a dataset. \n",
    "\n",
    "Each measure of central tendency provides a different perspective on the \"center\" of the data, and the most appropriate measure to use depends on the specific characteristics of the dataset and the purpose of the analysis. For example, the mean is sensitive to outliers (extreme values), while the median is not. \n",
    "\n"
   ]
  },
  {
   "cell_type": "markdown",
   "id": "59888998",
   "metadata": {},
   "source": [
    "Question = 12 >>> Define mean, median, and mode?"
   ]
  },
  {
   "cell_type": "markdown",
   "id": "89174ece",
   "metadata": {},
   "source": [
    "Ans = Mean, median, and mode are all measures of central tendency in a set of data. The mean is the average of the numbers, calculated by summing them and dividing by the count. The median is the middle value when the data is ordered, and the mode is the value that appears most frequently. \n",
    "\n",
    "Here's a more detailed explanation:\n",
    "\n",
    "Mean:\n",
    "The mean is the most common type of average. It's found by adding all the values in a dataset and then dividing by the total number of values. For example, the mean of the numbers 2, 4, and 6 is (2 + 4 + 6) / 3 = 4. \n",
    "\n",
    "Median:\n",
    "The median is the middle value in a dataset that has been arranged in ascending or descending order. If there's an even number of values, the median is the average of the two middle values. For example, in the dataset 2, 4, 6, 8, the median is (4 + 6) / 2 = 5. \n",
    "\n",
    "Mode:\n",
    "The mode is the value that appears most often in a dataset. For example, in the dataset 2, 2, 4, 6, 8, the mode is 2. \n"
   ]
  },
  {
   "cell_type": "markdown",
   "id": "2d51b271",
   "metadata": {},
   "source": [
    "Question = 13 >>> What is the significance of the measure of central tendency? "
   ]
  },
  {
   "cell_type": "markdown",
   "id": "074bc43a",
   "metadata": {},
   "source": [
    "Ans = Measures of central tendency (mean, median, mode) are important because they provide a single, representative value that summarizes the typical value or center of a dataset. This is valuable for quickly understanding the data's overall pattern or behavior. They offer a way to communicate a lot of information about a dataset in a concise manner, making it easier to interpret and compare different datasets. \n",
    "Here's a more detailed explanation of their significance:\n",
    "1. Summarizing Data:\n",
    "Measures of central tendency condense a large dataset into a single, representative number. \n",
    "This single value provides a quick understanding of the typical or average value within the dataset. \n",
    "It allows for easier comparison of different datasets or groups of data. \n",
    "2. Understanding Data Distribution: \n",
    "Central tendency helps to understand where the center of the data distribution is located.\n",
    "Knowing the center provides a reference point for comparing individual data points to the overall data set.\n",
    "It can reveal information about how data is dispersed around the center. \n",
    "3. Facilitating Statistical Analysis: \n",
    "Measures of central tendency are fundamental in many statistical analyses. \n",
    "They serve as a basis for understanding data patterns, trends, and relationships. \n",
    "They are used in various applications, from basic operational decision-making to strategic planning. \n",
    "4. Practical Applications:\n",
    "In business, they can inform decisions about pricing, compensation, and inventory management. \n",
    "In research, they are used to summarize data and make comparisons between different groups or conditions. \n",
    "They can also be used to assess the validity of claims or to estimate the likelihood of future events. \n",
    "5. Choosing the Right Measure:\n",
    "Different measures of central tendency (mean, median, mode) are appropriate for different types of data and situations. \n",
    "The mean is most frequently used, but the median is better for skewed distributions, while the mode is useful for categorical data. \n",
    "Understanding the strengths and weaknesses of each measure is crucial for selecting the most appropriate one for a particular application. \n"
   ]
  },
  {
   "cell_type": "markdown",
   "id": "774accaa",
   "metadata": {},
   "source": [
    "Question = 14 >>> What is variance, and how is it calculated?"
   ]
  },
  {
   "cell_type": "markdown",
   "id": "a3134f4d",
   "metadata": {},
   "source": [
    "Ans = Variance is a statistical measure that quantifies the spread or dispersion of data points in a dataset. It indicates how much the individual values in a dataset deviate from the mean (average) value. A higher variance means the data points are more spread out, while a lower variance indicates they are clustered closer to the mean. \n",
    "\n",
    "Calculation:\n",
    "Calculate the mean: Sum all the values in the dataset and divide by the number of values. \n",
    "Find the difference from the mean: Subtract the mean from each individual value in the dataset. [2-5=-3, 5-5=0, 8-5=3] \n",
    "Square the differences: Square each of the differences calculated in the previous step. [(-3)^2=9, 0^2=0, 3^2=9] \n",
    "Sum the squared differences: Add up all the squared differences. [9+0+9=18] \n",
    "Divide by (n-1): For a sample variance, divide the sum of squared differences by the number of values minus one (n-1). For population variance, divide by the total number of values (N). [18/ (3-1) = \n",
    "\n",
    "Formula:\n",
    "Sample Variance (s²):\n",
    "s² = Σ (xi - x̄)² / (n - 1), where xi is each data point, x̄ is the sample mean, and n is the number of data points in the sample. \n",
    "Population Variance (σ²):\n",
    "σ² = Σ (xi - μ)² / N, where xi is each data point, μ is the population mean, and N is the number of data points in the population. \n"
   ]
  },
  {
   "cell_type": "markdown",
   "id": "1cb6dbd8",
   "metadata": {},
   "source": [
    "Question = 15 >>> What is standard deviation, and why is it important"
   ]
  },
  {
   "cell_type": "markdown",
   "id": "465c24f4",
   "metadata": {},
   "source": [
    "Ans = Standard deviation is a statistical measure that quantifies the amount of variation or dispersion of a set of values from its mean (average). It's essentially a measure of how spread out the data is. A low standard deviation indicates that the data points tend to be close to the mean, while a high standard deviation suggests that the data points are scattered over a wider range of values. It's important because it helps understand the reliability of the mean, identify outliers, and assess risk in various fields. \n",
    "Standard Deviation: Interpretations and Calculations ...\n",
    "\n",
    "Here's a more detailed explanation:\n",
    "\n",
    "What it is:\n",
    "\n",
    "Measure of Spread:\n",
    "\n",
    "Standard deviation tells you, on average, how far each value in a dataset is from the mean. \n",
    "\n",
    "Relates to the Mean:\n",
    "\n",
    "It's calculated based on the mean, and it describes how the data is distributed around that central point. \n",
    "\n",
    "Square Root of Variance:\n",
    "\n",
    "It's the square root of the variance, which is the average of the squared differences from the mean. \n",
    "\n",
    "Why it's important:\n",
    "\n",
    "Understanding Data Distribution:\n",
    "\n",
    "Standard deviation helps visualize how data is clustered or spread out. \n",
    "\n",
    "Reliability of the Mean:\n",
    "\n",
    "A low standard deviation suggests the mean is a good representation of the data, while a high standard deviation indicates more variability and the mean might not be as representative. \n",
    "\n",
    "Identifying Outliers:\n",
    "\n",
    "Data points significantly far from the mean (often beyond two or three standard deviations) can be considered outliers. \n",
    "\n",
    "Risk Assessment:\n",
    "\n",
    "In finance and other fields, standard deviation is used to measure volatility and assess risk associated with investments or other outcomes. \n",
    "\n",
    "Quality Control:\n",
    "\n",
    "In manufacturing, it helps monitor consistency in product dimensions or other characteristics, identifying potential issues with quality. \n",
    "\n",
    "Decision Making:\n",
    "\n",
    "Standard deviation provides valuable insights for making informed decisions in various contexts, from scientific research to business strategies. \n"
   ]
  },
  {
   "cell_type": "markdown",
   "id": "ae52d810",
   "metadata": {},
   "source": [
    "Question = 16 >>> Define and explain the term range in statistics?"
   ]
  },
  {
   "cell_type": "markdown",
   "id": "4fbb5797",
   "metadata": {},
   "source": [
    "Ans = n statistics, the range is a simple measure of variability that represents the difference between the highest and lowest values in a dataset. It provides a quick overview of the spread or dispersion of the data. \n",
    "\n",
    "Definition and Calculation:\n",
    "Definition: The range is the difference between the maximum and minimum values within a dataset. \n",
    "Calculation: Range = Highest Value - Lowest Value. \n",
    "\n",
    "Example:\n",
    "If a dataset contains the values {2, 4, 6, 8, 12}, the range would be calculated as: \n",
    "\n",
    "Significance:\n",
    "Spread of data: The range provides a general idea of how spread out the data points are. \n",
    "Easy to calculate: It is one of the simplest measures of variability to calculate. \n",
    "Limitations: The range is sensitive to outliers (extreme values) and can be misleading if the dataset has a small number of values. \n",
    "\n",
    "In essence, the range gives you a quick understanding of the overall spread of your data by focusing on the extremes. However, it's important to consider other measures of variability like standard deviation or interquartile range for a more comprehensive understanding, especially when outliers are present. \n"
   ]
  },
  {
   "cell_type": "markdown",
   "id": "0ef5615d",
   "metadata": {},
   "source": [
    "Question = 17 >>> What is the difference between variance and standard deviation?"
   ]
  },
  {
   "cell_type": "markdown",
   "id": "063b127c",
   "metadata": {},
   "source": [
    "Ans = Variance and standard deviation are both measures of data dispersion, but standard deviation is the square root of the variance. Variance quantifies the average squared difference of data points from the mean, while standard deviation represents the spread of data around the mean, expressed in the same units as the original data. \n",
    "\n",
    "Here's a more detailed breakdown:\n",
    "\n",
    "Variance:\n",
    "\n",
    "Measures the average degree to which each point in a data set differs from the mean. \n",
    "Calculated by squaring the differences between each data point and the mean, summing these squared differences, and then dividing by the number of data points (or number of data points minus one for a sample). \n",
    "Results in a value expressed in squared units, which can make it difficult to interpret directly. \n",
    "\n",
    "Standard Deviation:\n",
    "\n",
    "The square root of the variance.\n",
    "Represents the typical distance of data points from the mean.\n",
    "Expressed in the same units as the original data, making it more intuitive to understand the spread of the data. \n",
    "\n",
    "In essence:\n",
    "\n",
    "Variance gives you a sense of the overall variability in a dataset, while standard deviation provides a more directly interpretable measure of how spread out the data is. \n",
    "Standard deviation is often preferred for its interpretability, but variance is a crucial step in its calculation and is also used in statistical tests. \n"
   ]
  },
  {
   "cell_type": "markdown",
   "id": "f41ce077",
   "metadata": {},
   "source": [
    "Question = 18 >>> What is skewness in a dataset?"
   ]
  },
  {
   "cell_type": "markdown",
   "id": "0530903a",
   "metadata": {},
   "source": [
    "Ans = Skewness in a dataset refers to the measure of the asymmetry or lack of symmetry in the distribution of data points around its mean. It indicates whether the data is concentrated more on one side of the mean than the other. A dataset can be skewed to the left (negative skew), to the right (positive skew), or be symmetrical (zero skew). \n",
    "\n",
    "Here's a more detailed explanation:\n",
    "\n",
    "Symmetrical Distribution:\n",
    "\n",
    "In a perfectly symmetrical distribution, like a normal distribution, the mean, median, and mode are all the same, and the data is evenly distributed around the mean. \n",
    "\n",
    "Positive Skew (Right Skew):\n",
    "\n",
    "A positively skewed distribution has a longer tail on the right side. This means the mean is greater than the median, which is also greater than the mode. The extreme values are stretched towards the right. \n",
    "\n",
    "Negative Skew (Left Skew):\n",
    "\n",
    "A negatively skewed distribution has a longer tail on the left side. In this case, the mean is less than the median, which is less than the mode. The extreme values are stretched towards the left. \n",
    "\n",
    "Understanding Skewness:\n",
    "\n",
    "Skewness helps data scientists and analysts understand the shape of the data distribution and identify potential biases or anomalies. It's a crucial concept for selecting appropriate statistical models and interpreting results. \n"
   ]
  },
  {
   "cell_type": "markdown",
   "id": "55c2568a",
   "metadata": {},
   "source": [
    "Question = 19 >>> What does it mean if a dataset is positively or negatively skewed?"
   ]
  },
  {
   "cell_type": "markdown",
   "id": "0c191887",
   "metadata": {},
   "source": [
    "Ans = In statistics, skewness describes the asymmetry of a data distribution. A positively skewed distribution has a longer tail on the right side, meaning most values are clustered on the left with a few high outliers. Conversely, a negatively skewed distribution has a longer tail on the left, with most values clustered on the right and some low outliers. \n",
    "\n",
    "Positive Skew (Right Skew): \n",
    "\n",
    "Tail: Extends to the right (positive direction). \n",
    "Mean, Median, and Mode: In a positively skewed distribution, the mean is typically greater than the median, which is greater than the mode (Mean > Median > Mode). \n",
    "Example: A test with mostly low scores and a few very high scores. \n",
    "\n",
    "Negative Skew (Left Skew): \n",
    "\n",
    "Tail: Extends to the left (negative direction). \n",
    "Mean, Median, and Mode: In a negatively skewed distribution, the mean is typically less than the median, which is less than the mode (Mean < Median < Mode). \n",
    "\n",
    "Example: A test with mostly high scores and a few very low scores. \n",
    "\n",
    "Visualizing Skewness:\n",
    "\n",
    "Imagine a histogram. In a positively skewed distribution, the histogram's tail will be longer on the right side, while in a negatively skewed distribution, the tail will be longer on the left side. \n"
   ]
  },
  {
   "cell_type": "markdown",
   "id": "b9eb9349",
   "metadata": {},
   "source": [
    "Question = 20 >>> Define and explain kurtosis?"
   ]
  },
  {
   "cell_type": "markdown",
   "id": "b347f36f",
   "metadata": {},
   "source": [
    "Ans = Kurtosis is a statistical measure used to describe a characteristic of a dataset. It generally takes the form of a bell when normally distributed data is plotted on a graph. This is called the bell curve. The plotted data that are farthest from the mean of the data usually form the tails on each side of the curve.\n"
   ]
  },
  {
   "cell_type": "markdown",
   "id": "0114180f",
   "metadata": {},
   "source": [
    "Question = 21 >>> What is the purpose of covariance?"
   ]
  },
  {
   "cell_type": "markdown",
   "id": "8c69c611",
   "metadata": {},
   "source": [
    "\n",
    "The covariance equation is used to determine the direction of the relationship between two variables—in other words, whether they tend to move in the same or opposite directions.\n",
    "Covariance: Definition, Formula, Types, and Examples\n",
    "\n",
    "\n"
   ]
  },
  {
   "cell_type": "markdown",
   "id": "f63eaa1c",
   "metadata": {},
   "source": [
    "Question = 22 >>> What does correlation measure in statistics?"
   ]
  },
  {
   "cell_type": "markdown",
   "id": "28a52487",
   "metadata": {},
   "source": [
    "Ans = What Is Correlation? A Guide for Beginners | SimplilearnIn statistics, correlation measures the strength and direction of a relationship between two or more variables. It indicates how closely the variables change together, either in the same direction (positive correlation) or in opposite directions (negative correlation). Importantly, correlation does not imply causation; just because two variables are correlated does not mean one causes the other. \n",
    "\n",
    "Here's a more detailed explanation:\n",
    "\n",
    "Strength of the relationship:\n",
    "\n",
    "Correlation quantifies how closely the data points cluster around a line of best fit. A stronger correlation means the data points are closer to the line, indicating a more predictable relationship. \n",
    "\n",
    "Direction of the relationship:\n",
    "\n",
    "Positive correlation: As one variable increases, the other tends to increase as well. \n",
    "\n",
    "Negative correlation: As one variable increases, the other tends to decrease. \n",
    "\n",
    "No correlation: There's no discernible relationship between the variables. \n",
    "\n",
    "Correlation coefficient:\n",
    "\n",
    "The correlation coefficient (often denoted as r) is a numerical value between -1 and +1 that represents the strength and direction of the correlation. \n",
    "\n",
    "A value of +1 indicates a perfect positive correlation. \n",
    "\n",
    "A value of -1 indicates a perfect negative correlation. \n",
    "\n",
    "A value of 0 indicates no linear correlation. \n",
    "\n",
    "Correlation vs. Causation:\n",
    "\n",
    "A common saying in statistics is \"correlation does not imply causation.\" This means that even if two variables are strongly correlated, it doesn't necessarily mean that one causes the other. There might be other factors influencing both variables, or the relationship might be coincidental. \n",
    "For example, there might be a positive correlation between ice cream sales and crime rates. However, this doesn't mean that eating ice cream causes crime. A more likely explanation is that both are influenced by a third factor, like warm weather. \n"
   ]
  },
  {
   "cell_type": "markdown",
   "id": "15afe09a",
   "metadata": {},
   "source": [
    "Question = 23 >>> What is the difference between covariance and correlation?"
   ]
  },
  {
   "cell_type": "markdown",
   "id": "3a0e4fdc",
   "metadata": {},
   "source": [
    "Ans = Covariance and correlation both measure the relationship between two variables, but they differ in how they represent the strength and scale of that relationship. Covariance indicates the direction of the relationship (positive or negative), while correlation also indicates the strength of that relationship and is standardized to a range between -1 and +1. \n",
    "\n",
    "Here's a more detailed breakdown:\n",
    "\n",
    "Covariance:\n",
    "\n",
    "Definition: Measures the extent to which two variables change together. A positive covariance indicates that when one variable increases, the other tends to increase as well, and vice versa for negative covariance. \n",
    "\n",
    "Range: Can range from negative infinity to positive infinity (-∞ to +∞). \n",
    "\n",
    "Limitations: Covariance is affected by the scale of the variables. If you change the units of measurement (e.g., from kilograms to grams), the covariance value will change. \n",
    "\n",
    "Correlation:\n",
    "\n",
    "Definition: A standardized measure of the linear relationship between two variables. It not only indicates the direction of the relationship (positive or negative) but also its strength. \n",
    "\n",
    "Range: Always falls between -1 and +1 (-1 to +1). \n",
    "\n",
    "Benefits: Correlation is easier to interpret than covariance because it is standardized. A correlation of +1 indicates a perfect positive linear relationship, -1 indicates a perfect negative linear relationship, and 0 indicates no linear relationship. \n",
    "\n",
    "Scale-independent: Correlation is not affected by changes in the scale of the variables. \n",
    "\n",
    "In essence:\n",
    "\n",
    "Covariance tells you if two variables change together and in which direction (positive or negative).\n",
    "\n",
    "Correlation tells you how strongly two variables are related and in which direction. \n",
    "\n",
    "Example:\n",
    "\n",
    "Imagine you are measuring the height and weight of individuals. If you calculate the covariance, it will depend on the units used (e.g., centimeters and kilograms). However, if you calculate the correlation, it will be the same regardless of whether you use centimeters/kilograms or inches/pounds. \n"
   ]
  },
  {
   "cell_type": "markdown",
   "id": "63f9132c",
   "metadata": {},
   "source": [
    "Question = 24 >>> What are some real-world applications of statistics?"
   ]
  },
  {
   "cell_type": "markdown",
   "id": "1e75ba38",
   "metadata": {},
   "source": [
    "Ans = Statistics are used in a wide variety of fields to analyze data, identify trends, and make informed decisions. \n",
    "\n",
    "Some examples include: \n",
    "\n",
    "Business:\n",
    "\n",
    "Analyzing sales data, market trends, and customer behavior. \n",
    "Healthcare:\n",
    "\n",
    "Conducting clinical trials, analyzing patient data, and understanding disease patterns. \n",
    "\n",
    "Finance:\n",
    "\n",
    "Assessing investment risks, predicting market fluctuations, and developing financial models. \n",
    "\n",
    "Government:\n",
    "\n",
    "Analyzing census data, tracking crime rates, and evaluating the effectiveness of policies. \n",
    "\n",
    "Education:\n",
    "\n",
    "Evaluating student performance, determining the effectiveness of teaching methods, and tracking graduation rates. \n",
    "\n",
    "Sports:\n",
    "\n",
    "Analyzing player statistics, predicting game outcomes, and evaluating team performance. \n",
    "\n",
    "Environmental Science:\n",
    "\n",
    "Monitoring pollution levels, tracking climate change trends, and assessing the impact of natural disasters. \n",
    "\n",
    "In addition, statistics are used in many other fields, including:\n",
    "\n",
    "Quality Control:\n",
    "\n",
    "Monitoring manufacturing processes, identifying defects, and ensuring product quality. \n",
    "\n",
    "Market Research:\n",
    "\n",
    "Identifying consumer preferences, understanding market segments, and developing marketing strategies. \n",
    "\n",
    "Insurance:\n",
    "\n",
    "Assessing risk, determining premiums, and managing claims. \n",
    "Sociology and Psychology:\n",
    "\n",
    "Analyzing survey data, understanding social trends, and researching human behavior. \n"
   ]
  },
  {
   "cell_type": "markdown",
   "id": "50bbfaa2",
   "metadata": {},
   "source": [
    "########## PRACTICAL QUESTIONS ##########"
   ]
  },
  {
   "cell_type": "markdown",
   "id": "1f1c679c",
   "metadata": {},
   "source": [
    "Question = 1 >>> How do you calculate the mean, median, and mode of a dataset?"
   ]
  },
  {
   "cell_type": "code",
   "execution_count": 3,
   "id": "a4c713e8",
   "metadata": {},
   "outputs": [
    {
     "name": "stdout",
     "output_type": "stream",
     "text": [
      "Mean: 3.125\n",
      "Median: 3.5\n",
      "Mode: 4\n"
     ]
    }
   ],
   "source": [
    "import statistics\n",
    "\n",
    "data = [1, 2, 2, 3, 4, 4, 4, 5]\n",
    "\n",
    "mean = statistics.mean(data)\n",
    "median = statistics.median(data)\n",
    "mode = statistics.mode(data)\n",
    "\n",
    "print(\"Mean:\", mean)\n",
    "print(\"Median:\", median)\n",
    "print(\"Mode:\", mode)\n"
   ]
  },
  {
   "cell_type": "markdown",
   "id": "046b7e6b",
   "metadata": {},
   "source": [
    "Question = 2 >>> Write a Python program to compute the variance and standard deviation of a dataset?"
   ]
  },
  {
   "cell_type": "code",
   "execution_count": 4,
   "id": "69f10462",
   "metadata": {},
   "outputs": [
    {
     "name": "stdout",
     "output_type": "stream",
     "text": [
      "Variance: 27.428571428571427\n",
      "Standard Deviation: 5.237229365663818\n"
     ]
    }
   ],
   "source": [
    "import statistics\n",
    "\n",
    "# Sample dataset\n",
    "data = [10, 12, 23, 23, 16, 23, 21, 16]\n",
    "\n",
    "# Compute variance\n",
    "variance = statistics.variance(data)\n",
    "\n",
    "# Compute standard deviation\n",
    "std_deviation = statistics.stdev(data)\n",
    "\n",
    "print(\"Variance:\", variance)\n",
    "print(\"Standard Deviation:\", std_deviation)\n"
   ]
  },
  {
   "cell_type": "code",
   "execution_count": 5,
   "id": "db616960",
   "metadata": {},
   "outputs": [
    {
     "name": "stdout",
     "output_type": "stream",
     "text": [
      "Variance: 24.0\n",
      "Standard Deviation: 4.898979485566356\n"
     ]
    }
   ],
   "source": [
    "import math\n",
    "\n",
    "data = [10, 12, 23, 23, 16, 23, 21, 16]\n",
    "\n",
    "# Calculate mean\n",
    "mean = sum(data) / len(data)\n",
    "\n",
    "# Calculate variance\n",
    "variance = sum((x - mean) ** 2 for x in data) / len(data)\n",
    "\n",
    "# Calculate standard deviation\n",
    "std_deviation = math.sqrt(variance)\n",
    "\n",
    "print(\"Variance:\", variance)\n",
    "print(\"Standard Deviation:\", std_deviation)\n"
   ]
  },
  {
   "cell_type": "markdown",
   "id": "2ea9d949",
   "metadata": {},
   "source": [
    "Question = 3 >>> Create a dataset and classify it into nominal, ordinal, interval, and ratio types?"
   ]
  },
  {
   "cell_type": "code",
   "execution_count": 7,
   "id": "5b246bea",
   "metadata": {},
   "outputs": [
    {
     "data": {
      "text/plain": [
       "\"Type\\tDescription\\nNominal\\tCategories with no order (names, labels)\\nOrdinal\\tCategories with order but no fixed intervals\\nInterval\\tNumeric, ordered, equal intervals, but no true zero\\nRatio\\tNumeric, ordered, equal intervals, true zero\\n\\nNow let's create a sample dataset and classify each variable:\\n\\n📊 Sample Dataset:\\nPerson\\tGender\\tEducation Level\\tTemperature (°C)\\tSalary (USD)\\tHeight (cm)\\n1\\tMale\\tBachelor's\\t37.5\\t50000\\t175\\n2\\tFemale\\tMaster's\\t36.8\\t60000\\t160\\n3\\tMale\\tPhD\\t38.2\\t75000\\t180\\n4\\tFemale\\tBachelor's\\t36.5\\t45000\\t155\\n\\n🔎 Classification:\\nVariable\\tData Type\\nGender\\tNominal (categories with no order: Male, Female)\\nEducation Level\\tOrdinal (categories with order: Bachelor's < Master's < PhD)\\nTemperature (°C)\\tInterval (equal intervals, but 0°C is not true zero)\\nSalary (USD)\\tRatio (has true zero: zero salary means no money)\\nHeight (cm)\\tRatio (true zero: zero height means absence of height)\\n\\n🔑 Quick Rule to Remember:\\nType\\tKey Feature\\nNominal\\tNames/Labels only\\nOrdinal\\tOrdered categories\\nInterval\\tOrdered, equal intervals, but no true zero\\nRatio\\tOrdered, equal intervals, true zero\""
      ]
     },
     "execution_count": 7,
     "metadata": {},
     "output_type": "execute_result"
    }
   ],
   "source": [
    "\"\"\"Type\tDescription\n",
    "Nominal\tCategories with no order (names, labels)\n",
    "Ordinal\tCategories with order but no fixed intervals\n",
    "Interval\tNumeric, ordered, equal intervals, but no true zero\n",
    "Ratio\tNumeric, ordered, equal intervals, true zero\n",
    "\n",
    "Now let's create a sample dataset and classify each variable:\n",
    "\n",
    "📊 Sample Dataset:\n",
    "Person\tGender\tEducation Level\tTemperature (°C)\tSalary (USD)\tHeight (cm)\n",
    "1\tMale\tBachelor's\t37.5\t50000\t175\n",
    "2\tFemale\tMaster's\t36.8\t60000\t160\n",
    "3\tMale\tPhD\t38.2\t75000\t180\n",
    "4\tFemale\tBachelor's\t36.5\t45000\t155\n",
    "\n",
    "🔎 Classification:\n",
    "Variable\tData Type\n",
    "Gender\tNominal (categories with no order: Male, Female)\n",
    "Education Level\tOrdinal (categories with order: Bachelor's < Master's < PhD)\n",
    "Temperature (°C)\tInterval (equal intervals, but 0°C is not true zero)\n",
    "Salary (USD)\tRatio (has true zero: zero salary means no money)\n",
    "Height (cm)\tRatio (true zero: zero height means absence of height)\n",
    "\n",
    "🔑 Quick Rule to Remember:\n",
    "Type\tKey Feature\n",
    "Nominal\tNames/Labels only\n",
    "Ordinal\tOrdered categories\n",
    "Interval\tOrdered, equal intervals, but no true zero\n",
    "Ratio\tOrdered, equal intervals, true zero\"\"\""
   ]
  },
  {
   "cell_type": "markdown",
   "id": "97bdf32c",
   "metadata": {},
   "source": [
    "Question = 4 >>> Implement sampling techniques like random sampling and stratified sampling?"
   ]
  },
  {
   "cell_type": "code",
   "execution_count": 8,
   "id": "fd80e69c",
   "metadata": {},
   "outputs": [
    {
     "name": "stdout",
     "output_type": "stream",
     "text": [
      "Random Sample: [60, 27, 51, 50, 74, 16, 20, 83, 56, 26]\n"
     ]
    }
   ],
   "source": [
    "#Random Sampling\n",
    "import random\n",
    "\n",
    "# Population data\n",
    "population = list(range(1, 101))  # Numbers from 1 to 100\n",
    "\n",
    "# Randomly select 10 samples\n",
    "sample = random.sample(population, 10)\n",
    "\n",
    "print(\"Random Sample:\", sample)\n"
   ]
  },
  {
   "cell_type": "code",
   "execution_count": 9,
   "id": "5575adc3",
   "metadata": {},
   "outputs": [
    {
     "name": "stdout",
     "output_type": "stream",
     "text": [
      "Stratified Sample:\n",
      "     ID  Gender\n",
      "2    3    Male\n",
      "9   10    Male\n",
      "6    7    Male\n",
      "12  13  Female\n",
      "19  20  Female\n",
      "16  17  Female\n"
     ]
    }
   ],
   "source": [
    "#Stratified Sampling\n",
    "import pandas as pd\n",
    "import random\n",
    "\n",
    "# Sample population with strata (Gender)\n",
    "data = {\n",
    "    'ID': list(range(1, 21)),\n",
    "    'Gender': ['Male'] * 10 + ['Female'] * 10\n",
    "}\n",
    "\n",
    "df = pd.DataFrame(data)\n",
    "\n",
    "# Stratified sampling: select 3 males and 3 females\n",
    "male_sample = df[df['Gender'] == 'Male'].sample(3, random_state=1)\n",
    "female_sample = df[df['Gender'] == 'Female'].sample(3, random_state=1)\n",
    "\n",
    "stratified_sample = pd.concat([male_sample, female_sample])\n",
    "\n",
    "print(\"Stratified Sample:\\n\", stratified_sample)\n"
   ]
  },
  {
   "cell_type": "markdown",
   "id": "3af7ad73",
   "metadata": {},
   "source": [
    "Question = 5 >>> Write a Python function to calculate the range of a dataset?"
   ]
  },
  {
   "cell_type": "code",
   "execution_count": 10,
   "id": "3845a720",
   "metadata": {},
   "outputs": [
    {
     "name": "stdout",
     "output_type": "stream",
     "text": [
      "Range of dataset: 23\n"
     ]
    }
   ],
   "source": [
    "def calculate_range(data):\n",
    "    if not data:  # check for empty dataset\n",
    "        return None\n",
    "    return max(data) - min(data)\n",
    "\n",
    "# Example usage:\n",
    "dataset = [10, 15, 23, 7, 9, 30, 18]\n",
    "result = calculate_range(dataset)\n",
    "print(\"Range of dataset:\", result)\n"
   ]
  },
  {
   "cell_type": "markdown",
   "id": "bfb7215f",
   "metadata": {},
   "source": [
    "Question = 6 >>> Create a dataset and plot its histogram to visualize skewness?"
   ]
  },
  {
   "cell_type": "code",
   "execution_count": 11,
   "id": "bf6edf8e",
   "metadata": {},
   "outputs": [
    {
     "data": {
      "image/png": "[encoded data removed]",
      "text/plain": [
       "<Figure size 800x500 with 1 Axes>"
      ]
     },
     "metadata": {},
     "output_type": "display_data"
    }
   ],
   "source": [
    "import numpy as np\n",
    "import matplotlib.pyplot as plt\n",
    "\n",
    "# Create a right-skewed dataset (Exponential distribution)\n",
    "data = np.random.exponential(scale=2, size=1000)\n",
    "\n",
    "# Plot histogram\n",
    "plt.figure(figsize=(8, 5))\n",
    "plt.hist(data, bins=30, color='skyblue', edgecolor='black')\n",
    "plt.title('Histogram to Visualize Skewness')\n",
    "plt.xlabel('Value')\n",
    "plt.ylabel('Frequency')\n",
    "plt.show()\n"
   ]
  },
  {
   "cell_type": "markdown",
   "id": "22b1c95d",
   "metadata": {},
   "source": [
    "Question = 7 >>> Calculate skewness and kurtosis of a dataset using Python libraries?"
   ]
  },
  {
   "cell_type": "code",
   "execution_count": 18,
   "id": "7c407176",
   "metadata": {},
   "outputs": [
    {
     "name": "stdout",
     "output_type": "stream",
     "text": [
      "Skewness (pandas): 1.87400509534087\n",
      "Kurtosis (pandas): 7.673610856581236\n"
     ]
    }
   ],
   "source": [
    "import pandas as pd\n",
    "\n",
    "# Convert data to pandas Series\n",
    "series = pd.Series(data)\n",
    "\n",
    "print(\"Skewness (pandas):\", series.skew())\n",
    "print(\"Kurtosis (pandas):\", series.kurt() + 3)  # pandas returns excess kurtosis\n"
   ]
  },
  {
   "cell_type": "markdown",
   "id": "c956489d",
   "metadata": {},
   "source": [
    "Question = 8 >>> Generate a dataset and demonstrate positive and negative skewness?"
   ]
  },
  {
   "cell_type": "code",
   "execution_count": 20,
   "id": "95652dbf",
   "metadata": {},
   "outputs": [
    {
     "data": {
      "image/png": "[encoded data removed]",
      "text/plain": [
       "<Figure size 1200x500 with 2 Axes>"
      ]
     },
     "metadata": {},
     "output_type": "display_data"
    }
   ],
   "source": [
    "import numpy as np\n",
    "import matplotlib.pyplot as plt\n",
    "from scipy.stats import skew\n",
    "\n",
    "# Generate datasets\n",
    "\n",
    "# 1. Positively skewed data (right skew)\n",
    "positive_skew_data = np.random.exponential(scale=2, size=1000)\n",
    "\n",
    "# 2. Negatively skewed data (left skew)\n",
    "negative_skew_data = -np.random.exponential(scale=2, size=1000)\n",
    "\n",
    "# Plot histograms\n",
    "plt.figure(figsize=(12, 5))\n",
    "\n",
    "# Positive skew\n",
    "plt.subplot(1, 2, 1)\n",
    "plt.hist(positive_skew_data, bins=30, color='skyblue', edgecolor='black')\n",
    "plt.title(f\"Positive Skew\\nSkewness: {skew(positive_skew_data):.2f}\")\n",
    "plt.xlabel(\"Value\")\n",
    "plt.ylabel(\"Frequency\")\n",
    "\n",
    "# Negative skew\n",
    "plt.subplot(1, 2, 2)\n",
    "plt.hist(negative_skew_data, bins=30, color='salmon', edgecolor='black')\n",
    "plt.title(f\"Negative Skew\\nSkewness: {skew(negative_skew_data):.2f}\")\n",
    "plt.xlabel(\"Value\")\n",
    "plt.ylabel(\"Frequency\")\n",
    "\n",
    "plt.tight_layout()\n",
    "plt.show()\n"
   ]
  },
  {
   "cell_type": "markdown",
   "id": "8784fda3",
   "metadata": {},
   "source": [
    "Question = 9 >>> Write a Python script to calculate covariance between two datasets?"
   ]
  },
  {
   "cell_type": "code",
   "execution_count": 21,
   "id": "8ada018e",
   "metadata": {},
   "outputs": [
    {
     "name": "stdout",
     "output_type": "stream",
     "text": [
      "Covariance: 8.0\n"
     ]
    }
   ],
   "source": [
    "def calculate_covariance(x, y):\n",
    "    if len(x) != len(y):\n",
    "        raise ValueError(\"Datasets must have the same length\")\n",
    "\n",
    "    n = len(x)\n",
    "    mean_x = sum(x) / n\n",
    "    mean_y = sum(y) / n\n",
    "\n",
    "    covariance = sum((x[i] - mean_x) * (y[i] - mean_y) for i in range(n)) / n\n",
    "    return covariance\n",
    "\n",
    "# Example datasets\n",
    "X = [2, 4, 6, 8, 10]\n",
    "Y = [1, 3, 5, 7, 9]\n",
    "\n",
    "cov = calculate_covariance(X, Y)\n",
    "print(\"Covariance:\", cov)\n"
   ]
  },
  {
   "cell_type": "markdown",
   "id": "4f1768f9",
   "metadata": {},
   "source": [
    "Question = 10 >>> Write a Python script to calculate the correlation coefficient between two datasets?"
   ]
  },
  {
   "cell_type": "code",
   "execution_count": 22,
   "id": "43f4a88d",
   "metadata": {},
   "outputs": [
    {
     "name": "stdout",
     "output_type": "stream",
     "text": [
      "Correlation Coefficient: 0.9999999999999998\n"
     ]
    }
   ],
   "source": [
    "import math\n",
    "\n",
    "def calculate_correlation(x, y):\n",
    "    if len(x) != len(y):\n",
    "        raise ValueError(\"Datasets must have the same length\")\n",
    "\n",
    "    n = len(x)\n",
    "    mean_x = sum(x) / n\n",
    "    mean_y = sum(y) / n\n",
    "\n",
    "    # Calculate covariance\n",
    "    covariance = sum((x[i] - mean_x) * (y[i] - mean_y) for i in range(n)) / n\n",
    "\n",
    "    # Calculate standard deviations\n",
    "    std_x = math.sqrt(sum((xi - mean_x)**2 for xi in x) / n)\n",
    "    std_y = math.sqrt(sum((yi - mean_y)**2 for yi in y) / n)\n",
    "\n",
    "    # Calculate correlation coefficient\n",
    "    correlation = covariance / (std_x * std_y)\n",
    "    return correlation\n",
    "\n",
    "# Example datasets\n",
    "X = [2, 4, 6, 8, 10]\n",
    "Y = [1, 3, 5, 7, 9]\n",
    "\n",
    "corr = calculate_correlation(X, Y)\n",
    "print(\"Correlation Coefficient:\", corr)\n"
   ]
  },
  {
   "cell_type": "code",
   "execution_count": 23,
   "id": "59d22e0f",
   "metadata": {},
   "outputs": [
    {
     "name": "stdout",
     "output_type": "stream",
     "text": [
      "Correlation Coefficient (NumPy): 0.9999999999999999\n"
     ]
    }
   ],
   "source": [
    "import numpy as np\n",
    "\n",
    "# Example datasets\n",
    "X = np.array([2, 4, 6, 8, 10])\n",
    "Y = np.array([1, 3, 5, 7, 9])\n",
    "\n",
    "# np.corrcoef returns correlation matrix\n",
    "corr_matrix = np.corrcoef(X, Y)\n",
    "correlation = corr_matrix[0, 1]\n",
    "\n",
    "print(\"Correlation Coefficient (NumPy):\", correlation)\n"
   ]
  },
  {
   "cell_type": "code",
   "execution_count": 24,
   "id": "e64d67be",
   "metadata": {},
   "outputs": [
    {
     "name": "stdout",
     "output_type": "stream",
     "text": [
      "Correlation Coefficient (SciPy): 1.0\n",
      "P-value: 0.0\n"
     ]
    }
   ],
   "source": [
    "from scipy.stats import pearsonr\n",
    "\n",
    "X = [2, 4, 6, 8, 10]\n",
    "Y = [1, 3, 5, 7, 9]\n",
    "\n",
    "correlation, p_value = pearsonr(X, Y)\n",
    "\n",
    "print(\"Correlation Coefficient (SciPy):\", correlation)\n",
    "print(\"P-value:\", p_value)\n"
   ]
  },
  {
   "cell_type": "markdown",
   "id": "73bea78f",
   "metadata": {},
   "source": [
    "Question = 11 >>> Create a scatter plot to visualize the relationship between two variables?\n"
   ]
  },
  {
   "cell_type": "code",
   "execution_count": 25,
   "id": "48512a8f",
   "metadata": {},
   "outputs": [
    {
     "data": {
      "image/png": "[encoded data removed]",
      "text/plain": [
       "<Figure size 800x600 with 1 Axes>"
      ]
     },
     "metadata": {},
     "output_type": "display_data"
    }
   ],
   "source": [
    "import numpy as np\n",
    "import matplotlib.pyplot as plt\n",
    "\n",
    "# Create two variables (datasets)\n",
    "np.random.seed(0)  # for reproducibility\n",
    "\n",
    "# Generate data\n",
    "X = np.random.uniform(0, 50, 100)  # 100 random X values between 0 and 50\n",
    "Y = 2 * X + np.random.normal(0, 10, 100)  # Linear relationship with noise\n",
    "\n",
    "# Create scatter plot\n",
    "plt.figure(figsize=(8, 6))\n",
    "plt.scatter(X, Y, color='blue', edgecolor='k', alpha=0.7)\n",
    "plt.title('Scatter Plot of X vs Y')\n",
    "plt.xlabel('X Values')\n",
    "plt.ylabel('Y Values')\n",
    "plt.grid(True)\n",
    "plt.show()\n"
   ]
  },
  {
   "cell_type": "markdown",
   "id": "e5f955e7",
   "metadata": {},
   "source": [
    "Question = 12 >>> Implement and compare simple random sampling and systematic sampling?"
   ]
  },
  {
   "cell_type": "code",
   "execution_count": 26,
   "id": "9b420dc5",
   "metadata": {},
   "outputs": [
    {
     "name": "stdout",
     "output_type": "stream",
     "text": [
      "Simple Random Sample: [np.int64(96), np.int64(67), np.int64(26), np.int64(19), np.int64(70), np.int64(37), np.int64(87), np.int64(42), np.int64(95), np.int64(22)]\n",
      "Systematic Sample: [ 5 15 25 35 45 55 65 75 85 95]\n",
      "\n",
      "Comparison:\n",
      "\n",
      "   Simple Random Sample  Systematic Sample\n",
      "0                    96                  5\n",
      "1                    67                 15\n",
      "2                    26                 25\n",
      "3                    19                 35\n",
      "4                    70                 45\n",
      "5                    37                 55\n",
      "6                    87                 65\n",
      "7                    42                 75\n",
      "8                    95                 85\n",
      "9                    22                 95\n"
     ]
    }
   ],
   "source": [
    "import numpy as np\n",
    "import random\n",
    "import pandas as pd\n",
    "\n",
    "# Create a sample population\n",
    "population = np.arange(1, 101)  # Population of 100 items: [1, 2, ..., 100]\n",
    "\n",
    "# Desired sample size\n",
    "sample_size = 10\n",
    "\n",
    "# ----------- Simple Random Sampling -----------\n",
    "srs_sample = random.sample(list(population), sample_size)\n",
    "\n",
    "# ----------- Systematic Sampling -----------\n",
    "k = len(population) // sample_size  # Sampling interval\n",
    "\n",
    "# Choose random start point between 0 and k-1\n",
    "start = random.randint(0, k-1)\n",
    "systematic_sample = population[start::k][:sample_size]  # Take every kth element\n",
    "\n",
    "# ----------- Display Results -----------\n",
    "print(\"Simple Random Sample:\", srs_sample)\n",
    "print(\"Systematic Sample:\", systematic_sample)\n",
    "\n",
    "# (Optional) Convert to DataFrame to visualize side-by-side\n",
    "df = pd.DataFrame({\n",
    "    'Simple Random Sample': pd.Series(srs_sample),\n",
    "    'Systematic Sample': pd.Series(systematic_sample)\n",
    "})\n",
    "\n",
    "print(\"\\nComparison:\\n\")\n",
    "print(df)\n"
   ]
  },
  {
   "cell_type": "markdown",
   "id": "460cd88c",
   "metadata": {},
   "source": [
    "Question = 13 >>> Calculate the mean, median, and mode of grouped data?"
   ]
  },
  {
   "cell_type": "code",
   "execution_count": 27,
   "id": "402c7c32",
   "metadata": {},
   "outputs": [
    {
     "name": "stdout",
     "output_type": "stream",
     "text": [
      "Mean of grouped data: 33.57142857142857\n"
     ]
    }
   ],
   "source": [
    "# Class intervals and frequencies\n",
    "class_intervals = [(10, 20), (20, 30), (30, 40), (40, 50), (50, 60)]\n",
    "frequencies = [5, 8, 12, 7, 3]\n",
    "\n",
    "# Calculate midpoints\n",
    "midpoints = [(start + end) / 2 for start, end in class_intervals]\n",
    "\n",
    "# Calculate mean\n",
    "total_frequency = sum(frequencies)\n",
    "sum_fx = sum(f * x for f, x in zip(frequencies, midpoints))\n",
    "mean = sum_fx / total_frequency\n",
    "\n",
    "print(\"Mean of grouped data:\", mean)\n"
   ]
  },
  {
   "cell_type": "code",
   "execution_count": 28,
   "id": "45e634ae",
   "metadata": {},
   "outputs": [
    {
     "name": "stdout",
     "output_type": "stream",
     "text": [
      "Median of grouped data: 33.75\n"
     ]
    }
   ],
   "source": [
    "# Calculate cumulative frequencies\n",
    "cumulative_frequencies = []\n",
    "total = 0\n",
    "for f in frequencies:\n",
    "    total += f\n",
    "    cumulative_frequencies.append(total)\n",
    "\n",
    "N = total_frequency\n",
    "Nby2 = N / 2\n",
    "\n",
    "# Find median class\n",
    "for i, cf in enumerate(cumulative_frequencies):\n",
    "    if cf >= Nby2:\n",
    "        median_class_index = i\n",
    "        break\n",
    "\n",
    "L = class_intervals[median_class_index][0]\n",
    "CF = cumulative_frequencies[median_class_index - 1] if median_class_index > 0 else 0\n",
    "f_m = frequencies[median_class_index]\n",
    "h = class_intervals[0][1] - class_intervals[0][0]\n",
    "\n",
    "median = L + ((Nby2 - CF) / f_m) * h\n",
    "\n",
    "print(\"Median of grouped data:\", median)\n"
   ]
  },
  {
   "cell_type": "code",
   "execution_count": 29,
   "id": "3d448e46",
   "metadata": {},
   "outputs": [
    {
     "name": "stdout",
     "output_type": "stream",
     "text": [
      "Mode of grouped data: 34.44444444444444\n"
     ]
    }
   ],
   "source": [
    "# Find modal class\n",
    "modal_class_index = frequencies.index(max(frequencies))\n",
    "\n",
    "L = class_intervals[modal_class_index][0]\n",
    "f_m = frequencies[modal_class_index]\n",
    "f_1 = frequencies[modal_class_index - 1] if modal_class_index > 0 else 0\n",
    "f_2 = frequencies[modal_class_index + 1] if modal_class_index < len(frequencies) - 1 else 0\n",
    "h = class_intervals[0][1] - class_intervals[0][0]\n",
    "\n",
    "mode = L + ((f_m - f_1) / ((f_m - f_1) + (f_m - f_2))) * h\n",
    "\n",
    "print(\"Mode of grouped data:\", mode)\n"
   ]
  },
  {
   "cell_type": "markdown",
   "id": "30c397db",
   "metadata": {},
   "source": [
    "Question = 14 >>> Simulate data using Python and calculate its central tendency and dispersion?"
   ]
  },
  {
   "cell_type": "code",
   "execution_count": 30,
   "id": "2409b1af",
   "metadata": {},
   "outputs": [
    {
     "name": "stdout",
     "output_type": "stream",
     "text": [
      "Mean: 49.55\n",
      "Median: 49.42\n",
      "Mode: 67.64\n",
      "Variance: 97.52\n",
      "Standard Deviation: 9.88\n",
      "Range: 58.05\n",
      "Skewness: 0.03\n",
      "Kurtosis: -0.05 (Excess Kurtosis)\n"
     ]
    },
    {
     "data": {
      "image/png": "[encoded data removed]",
      "text/plain": [
       "<Figure size 800x500 with 1 Axes>"
      ]
     },
     "metadata": {},
     "output_type": "display_data"
    }
   ],
   "source": [
    "import numpy as np\n",
    "import matplotlib.pyplot as plt\n",
    "import statistics\n",
    "from scipy.stats import skew, kurtosis\n",
    "\n",
    "# Step 1: Simulate data (normal distribution)\n",
    "np.random.seed(0)\n",
    "data = np.random.normal(loc=50, scale=10, size=1000)  # mean=50, std=10\n",
    "\n",
    "# Step 2: Calculate Central Tendency\n",
    "mean = statistics.mean(data)\n",
    "median = statistics.median(data)\n",
    "mode = statistics.mode(data)\n",
    "\n",
    "# Step 3: Calculate Dispersion\n",
    "variance = statistics.variance(data)\n",
    "std_dev = statistics.stdev(data)\n",
    "data_range = max(data) - min(data)\n",
    "\n",
    "# Step 4: Calculate Skewness and Kurtosis\n",
    "data_skewness = skew(data)\n",
    "data_kurtosis = kurtosis(data)\n",
    "\n",
    "# Step 5: Display Results\n",
    "print(f\"Mean: {mean:.2f}\")\n",
    "print(f\"Median: {median:.2f}\")\n",
    "print(f\"Mode: {mode:.2f}\")\n",
    "print(f\"Variance: {variance:.2f}\")\n",
    "print(f\"Standard Deviation: {std_dev:.2f}\")\n",
    "print(f\"Range: {data_range:.2f}\")\n",
    "print(f\"Skewness: {data_skewness:.2f}\")\n",
    "print(f\"Kurtosis: {data_kurtosis:.2f} (Excess Kurtosis)\")\n",
    "\n",
    "# Step 6: Visualize the data\n",
    "plt.figure(figsize=(8,5))\n",
    "plt.hist(data, bins=30, color='skyblue', edgecolor='black')\n",
    "plt.title('Simulated Data Distribution')\n",
    "plt.xlabel('Value')\n",
    "plt.ylabel('Frequency')\n",
    "plt.grid(True)\n",
    "plt.show()\n"
   ]
  },
  {
   "cell_type": "markdown",
   "id": "417fe828",
   "metadata": {},
   "source": [
    "Question = 15 >>> Use NumPy or pandas to summarize a dataset’s descriptive statistics?"
   ]
  },
  {
   "cell_type": "code",
   "execution_count": 31,
   "id": "1c0301ff",
   "metadata": {},
   "outputs": [
    {
     "name": "stdout",
     "output_type": "stream",
     "text": [
      "NumPy Summary:\n",
      "Mean: 46.1\n",
      "Median: 45.0\n",
      "Variance: 519.0899999999999\n",
      "Standard Deviation: 22.783546694928773\n",
      "Min: 12\n",
      "Max: 89\n",
      "Range: 77\n"
     ]
    }
   ],
   "source": [
    "import numpy as np\n",
    "\n",
    "# Simulated dataset\n",
    "data = np.array([23, 45, 12, 67, 34, 89, 45, 67, 23, 56])\n",
    "\n",
    "# Descriptive statistics\n",
    "mean = np.mean(data)\n",
    "median = np.median(data)\n",
    "variance = np.var(data)\n",
    "std_dev = np.std(data)\n",
    "minimum = np.min(data)\n",
    "maximum = np.max(data)\n",
    "range_val = maximum - minimum\n",
    "\n",
    "# Display results\n",
    "print(\"NumPy Summary:\")\n",
    "print(f\"Mean: {mean}\")\n",
    "print(f\"Median: {median}\")\n",
    "print(f\"Variance: {variance}\")\n",
    "print(f\"Standard Deviation: {std_dev}\")\n",
    "print(f\"Min: {minimum}\")\n",
    "print(f\"Max: {maximum}\")\n",
    "print(f\"Range: {range_val}\")\n"
   ]
  },
  {
   "cell_type": "code",
   "execution_count": 32,
   "id": "4a5bca47",
   "metadata": {},
   "outputs": [
    {
     "name": "stdout",
     "output_type": "stream",
     "text": [
      "Pandas Summary:\n",
      "count    10.000000\n",
      "mean     46.100000\n",
      "std      24.015967\n",
      "min      12.000000\n",
      "25%      25.750000\n",
      "50%      45.000000\n",
      "75%      64.250000\n",
      "max      89.000000\n",
      "dtype: float64\n"
     ]
    }
   ],
   "source": [
    "import pandas as pd\n",
    "\n",
    "# Convert data to pandas Series\n",
    "data_series = pd.Series([23, 45, 12, 67, 34, 89, 45, 67, 23, 56])\n",
    "\n",
    "# Descriptive statistics\n",
    "print(\"Pandas Summary:\")\n",
    "print(data_series.describe())\n"
   ]
  },
  {
   "cell_type": "markdown",
   "id": "2a579571",
   "metadata": {},
   "source": [
    "Question = 16 >>> Plot a boxplot to understand the spread and identify outliers?"
   ]
  },
  {
   "cell_type": "code",
   "execution_count": 33,
   "id": "a44ecf87",
   "metadata": {},
   "outputs": [
    {
     "data": {
      "image/png": "[encoded data removed]",
      "text/plain": [
       "<Figure size 800x600 with 1 Axes>"
      ]
     },
     "metadata": {},
     "output_type": "display_data"
    }
   ],
   "source": [
    "import numpy as np\n",
    "import matplotlib.pyplot as plt\n",
    "\n",
    "# Simulate some data\n",
    "np.random.seed(0)\n",
    "data = np.random.normal(50, 10, 100)  # Normal data\n",
    "data = np.append(data, [100, 110, 120])  # Adding some outliers\n",
    "\n",
    "# Plot boxplot\n",
    "plt.figure(figsize=(8, 6))\n",
    "plt.boxplot(data, vert=False, patch_artist=True,\n",
    "            boxprops=dict(facecolor='skyblue', color='black'),\n",
    "            medianprops=dict(color='red'),\n",
    "            flierprops=dict(marker='o', markerfacecolor='orange', markersize=8))\n",
    "\n",
    "plt.title(\"Boxplot Example (with Outliers)\")\n",
    "plt.xlabel(\"Value\")\n",
    "plt.grid(True)\n",
    "plt.show()\n"
   ]
  },
  {
   "cell_type": "code",
   "execution_count": 34,
   "id": "cd9b4587",
   "metadata": {},
   "outputs": [
    {
     "data": {
      "image/png": "[encoded data removed]",
      "text/plain": [
       "<Figure size 800x600 with 1 Axes>"
      ]
     },
     "metadata": {},
     "output_type": "display_data"
    }
   ],
   "source": [
    "import pandas as pd\n",
    "\n",
    "# Create pandas Series\n",
    "data_series = pd.Series(data)\n",
    "\n",
    "# Plot boxplot\n",
    "data_series.plot(kind='box', vert=False, color='blue', figsize=(8, 6))\n",
    "plt.title(\"Boxplot using pandas\")\n",
    "plt.grid(True)\n",
    "plt.show()\n"
   ]
  },
  {
   "cell_type": "markdown",
   "id": "41fcd484",
   "metadata": {},
   "source": [
    "Question = 17 >>> Calculate the interquartile range (IQR) of a dataset?"
   ]
  },
  {
   "cell_type": "code",
   "execution_count": 35,
   "id": "a43437ac",
   "metadata": {},
   "outputs": [
    {
     "name": "stdout",
     "output_type": "stream",
     "text": [
      "Q1 (25th percentile): 25.75\n",
      "Q3 (75th percentile): 64.25\n",
      "Interquartile Range (IQR): 38.5\n"
     ]
    }
   ],
   "source": [
    "import numpy as np\n",
    "\n",
    "# Example dataset\n",
    "data = np.array([23, 45, 12, 67, 34, 89, 45, 67, 23, 56])\n",
    "\n",
    "# Calculate Q1 (25th percentile) and Q3 (75th percentile)\n",
    "Q1 = np.percentile(data, 25)\n",
    "Q3 = np.percentile(data, 75)\n",
    "\n",
    "# Calculate IQR\n",
    "IQR = Q3 - Q1\n",
    "\n",
    "print(\"Q1 (25th percentile):\", Q1)\n",
    "print(\"Q3 (75th percentile):\", Q3)\n",
    "print(\"Interquartile Range (IQR):\", IQR)\n"
   ]
  },
  {
   "cell_type": "code",
   "execution_count": 36,
   "id": "2fc140cb",
   "metadata": {},
   "outputs": [
    {
     "name": "stdout",
     "output_type": "stream",
     "text": [
      "Q1 (25th percentile): 25.75\n",
      "Q3 (75th percentile): 64.25\n",
      "Interquartile Range (IQR): 38.5\n"
     ]
    }
   ],
   "source": [
    "import pandas as pd\n",
    "\n",
    "# Convert data to pandas Series\n",
    "data_series = pd.Series([23, 45, 12, 67, 34, 89, 45, 67, 23, 56])\n",
    "\n",
    "# Calculate IQR\n",
    "Q1 = data_series.quantile(0.25)\n",
    "Q3 = data_series.quantile(0.75)\n",
    "IQR = Q3 - Q1\n",
    "\n",
    "print(\"Q1 (25th percentile):\", Q1)\n",
    "print(\"Q3 (75th percentile):\", Q3)\n",
    "print(\"Interquartile Range (IQR):\", IQR)\n"
   ]
  },
  {
   "cell_type": "markdown",
   "id": "a97e5874",
   "metadata": {},
   "source": [
    "Question = 18 >>> Implement Z-score normalization and explain its significance?"
   ]
  },
  {
   "cell_type": "code",
   "execution_count": 37,
   "id": "556c8463",
   "metadata": {},
   "outputs": [
    {
     "name": "stdout",
     "output_type": "stream",
     "text": [
      "Original Data: [23 45 12 67 34 89 45 67 23 56]\n",
      "Z-score Normalized Data: [-1.01388955 -0.04828045 -1.4966941   0.91732864 -0.531085    1.88293774\n",
      " -0.04828045  0.91732864 -1.01388955  0.43452409]\n"
     ]
    }
   ],
   "source": [
    "import numpy as np\n",
    "\n",
    "# Sample dataset\n",
    "data = np.array([23, 45, 12, 67, 34, 89, 45, 67, 23, 56])\n",
    "\n",
    "# Calculate mean and standard deviation\n",
    "mean = np.mean(data)\n",
    "std = np.std(data)\n",
    "\n",
    "# Calculate Z-scores\n",
    "z_scores = (data - mean) / std\n",
    "\n",
    "print(\"Original Data:\", data)\n",
    "print(\"Z-score Normalized Data:\", z_scores)\n"
   ]
  },
  {
   "cell_type": "markdown",
   "id": "a2d5a118",
   "metadata": {},
   "source": [
    "Question = 19 >>> Compare two datasets using their standard deviations?"
   ]
  },
  {
   "cell_type": "code",
   "execution_count": 38,
   "id": "63e07d25",
   "metadata": {},
   "outputs": [
    {
     "name": "stdout",
     "output_type": "stream",
     "text": [
      "Standard Deviation of Dataset 1: 1.02\n",
      "Standard Deviation of Dataset 2: 25.98\n"
     ]
    }
   ],
   "source": [
    "import numpy as np\n",
    "\n",
    "# Dataset 1: More consistent data\n",
    "data1 = np.array([50, 52, 51, 49, 50, 51, 52, 50, 49, 51])\n",
    "\n",
    "# Dataset 2: More variable data\n",
    "data2 = np.array([30, 70, 25, 80, 35, 90, 20, 85, 40, 75])\n",
    "\n",
    "# Calculate standard deviations\n",
    "std1 = np.std(data1)\n",
    "std2 = np.std(data2)\n",
    "\n",
    "# Print results\n",
    "print(f\"Standard Deviation of Dataset 1: {std1:.2f}\")\n",
    "print(f\"Standard Deviation of Dataset 2: {std2:.2f}\")\n"
   ]
  },
  {
   "cell_type": "markdown",
   "id": "c7036e47",
   "metadata": {},
   "source": [
    "Question = 20 >>> Write a Python program to visualize covariance using a heatmap?"
   ]
  },
  {
   "cell_type": "code",
   "execution_count": 39,
   "id": "036d4851",
   "metadata": {},
   "outputs": [
    {
     "name": "stdout",
     "output_type": "stream",
     "text": [
      "Covariance Matrix:\n",
      "            X          Y           Z\n",
      "X  102.608749  49.604501   11.065720\n",
      "Y   49.604501  31.804141   10.623760\n",
      "Z   11.065720  10.623760  205.979315\n"
     ]
    },
    {
     "data": {
      "image/png": "[encoded data removed]",
      "text/plain": [
       "<Figure size 800x600 with 2 Axes>"
      ]
     },
     "metadata": {},
     "output_type": "display_data"
    }
   ],
   "source": [
    "import numpy as np\n",
    "import pandas as pd\n",
    "import seaborn as sns\n",
    "import matplotlib.pyplot as plt\n",
    "\n",
    "# Create a sample dataset with multiple variables\n",
    "np.random.seed(0)\n",
    "data = {\n",
    "    'X': np.random.normal(50, 10, 100),\n",
    "    'Y': np.random.normal(30, 5, 100),\n",
    "    'Z': np.random.normal(70, 15, 100)\n",
    "}\n",
    "\n",
    "# Introduce some relationship between X and Y\n",
    "data['Y'] = data['X'] * 0.5 + np.random.normal(10, 3, 100)\n",
    "\n",
    "# Convert to pandas DataFrame\n",
    "df = pd.DataFrame(data)\n",
    "\n",
    "# Calculate covariance matrix\n",
    "cov_matrix = df.cov()\n",
    "\n",
    "print(\"Covariance Matrix:\")\n",
    "print(cov_matrix)\n",
    "\n",
    "# Plot covariance heatmap\n",
    "plt.figure(figsize=(8, 6))\n",
    "sns.heatmap(cov_matrix, annot=True, cmap=\"coolwarm\", fmt=\".2f\")\n",
    "plt.title(\"Covariance Heatmap\")\n",
    "plt.show()\n",
    "\n"
   ]
  },
  {
   "cell_type": "markdown",
   "id": "3f480bc4",
   "metadata": {},
   "source": [
    "Question = 21 >>>  Use seaborn to create a correlation matrix for a dataset?"
   ]
  },
  {
   "cell_type": "code",
   "execution_count": 40,
   "id": "1bba666c",
   "metadata": {},
   "outputs": [
    {
     "name": "stdout",
     "output_type": "stream",
     "text": [
      "Correlation Matrix:\n",
      "                 Age    Salary  Experience     Score\n",
      "Age         1.000000 -0.067284   -0.007971  0.251803\n",
      "Salary     -0.067284  1.000000    0.644187  0.030676\n",
      "Experience -0.007971  0.644187    1.000000  0.014310\n",
      "Score       0.251803  0.030676    0.014310  1.000000\n"
     ]
    },
    {
     "data": {
      "image/png": "[encoded data removed]",
      "text/plain": [
       "<Figure size 800x600 with 2 Axes>"
      ]
     },
     "metadata": {},
     "output_type": "display_data"
    }
   ],
   "source": [
    "import numpy as np\n",
    "import pandas as pd\n",
    "import seaborn as sns\n",
    "import matplotlib.pyplot as plt\n",
    "\n",
    "# Generate sample dataset\n",
    "np.random.seed(42)\n",
    "\n",
    "data = {\n",
    "    'Age': np.random.randint(20, 60, 100),\n",
    "    'Salary': np.random.randint(3000, 9000, 100),\n",
    "    'Experience': np.random.randint(1, 20, 100),\n",
    "    'Score': np.random.randint(50, 100, 100)\n",
    "}\n",
    "\n",
    "# Introduce some artificial correlation\n",
    "data['Salary'] = data['Salary'] + data['Experience'] * 200\n",
    "\n",
    "# Create pandas DataFrame\n",
    "df = pd.DataFrame(data)\n",
    "\n",
    "# Compute correlation matrix\n",
    "corr_matrix = df.corr()\n",
    "\n",
    "# Display correlation matrix\n",
    "print(\"Correlation Matrix:\")\n",
    "print(corr_matrix)\n",
    "\n",
    "# Plot correlation heatmap using seaborn\n",
    "plt.figure(figsize=(8, 6))\n",
    "sns.heatmap(corr_matrix, annot=True, cmap=\"coolwarm\", fmt=\".2f\", linewidths=0.5)\n",
    "plt.title(\"Correlation Matrix Heatmap\")\n",
    "plt.show()\n"
   ]
  },
  {
   "cell_type": "markdown",
   "id": "8b993ce6",
   "metadata": {},
   "source": [
    "Question = 22 >>> Generate a dataset and implement both variance and standard deviation computations?"
   ]
  },
  {
   "cell_type": "code",
   "execution_count": 41,
   "id": "91346999",
   "metadata": {},
   "outputs": [
    {
     "name": "stdout",
     "output_type": "stream",
     "text": [
      "Generated Dataset: [61 24 81 70 30 92 96 84 84 97 33 12 31 62 11 97 39 47 11 73]\n",
      "Mean: 56.75\n",
      "Variance (manual calculation): 909.7875\n",
      "Standard Deviation (manual calculation): 30.162683899149293\n",
      "Variance (NumPy): 909.7875\n",
      "Standard Deviation (NumPy): 30.162683899149293\n"
     ]
    }
   ],
   "source": [
    "import numpy as np\n",
    "\n",
    "# Step 1: Generate dataset\n",
    "np.random.seed(42)\n",
    "data = np.random.randint(10, 100, size=20)  # 20 random integers between 10 and 100\n",
    "\n",
    "print(\"Generated Dataset:\", data)\n",
    "\n",
    "# Step 2: Calculate Mean\n",
    "mean = np.mean(data)\n",
    "print(\"Mean:\", mean)\n",
    "\n",
    "# Step 3: Calculate Variance (manual)\n",
    "variance_manual = sum((x - mean) ** 2 for x in data) / len(data)\n",
    "print(\"Variance (manual calculation):\", variance_manual)\n",
    "\n",
    "# Step 4: Calculate Standard Deviation (manual)\n",
    "std_dev_manual = variance_manual ** 0.5\n",
    "print(\"Standard Deviation (manual calculation):\", std_dev_manual)\n",
    "\n",
    "# Step 5: Verify using NumPy\n",
    "variance_numpy = np.var(data)\n",
    "std_dev_numpy = np.std(data)\n",
    "\n",
    "print(\"Variance (NumPy):\", variance_numpy)\n",
    "print(\"Standard Deviation (NumPy):\", std_dev_numpy)\n"
   ]
  },
  {
   "cell_type": "markdown",
   "id": "37ff6053",
   "metadata": {},
   "source": [
    "Question = 23 >>> Visualize skewness and kurtosis using Python libraries like matplotlib or seaborn?"
   ]
  },
  {
   "cell_type": "code",
   "execution_count": 42,
   "id": "b293313a",
   "metadata": {},
   "outputs": [
    {
     "name": "stdout",
     "output_type": "stream",
     "text": [
      "Skewness: 1.87\n",
      "Kurtosis: 5.22 (excess kurtosis)\n"
     ]
    },
    {
     "data": {
      "image/png": "[encoded data removed]",
      "text/plain": [
       "<Figure size 1000x600 with 1 Axes>"
      ]
     },
     "metadata": {},
     "output_type": "display_data"
    }
   ],
   "source": [
    "import numpy as np\n",
    "import pandas as pd\n",
    "import matplotlib.pyplot as plt\n",
    "import seaborn as sns\n",
    "from scipy.stats import skew, kurtosis\n",
    "\n",
    "# Generate skewed data (right-skewed)\n",
    "np.random.seed(42)\n",
    "data = np.random.exponential(scale=2, size=1000)\n",
    "\n",
    "# Calculate skewness and kurtosis\n",
    "data_skewness = skew(data)\n",
    "data_kurtosis = kurtosis(data)\n",
    "\n",
    "print(f\"Skewness: {data_skewness:.2f}\")\n",
    "print(f\"Kurtosis: {data_kurtosis:.2f} (excess kurtosis)\")\n",
    "\n",
    "# Create histogram and KDE plot using seaborn\n",
    "plt.figure(figsize=(10, 6))\n",
    "sns.histplot(data, kde=True, color='skyblue', bins=30)\n",
    "plt.title(\"Histogram with KDE: Visualizing Skewness and Kurtosis\")\n",
    "plt.xlabel(\"Value\")\n",
    "plt.ylabel(\"Frequency\")\n",
    "plt.grid(True)\n",
    "plt.show()\n"
   ]
  },
  {
   "cell_type": "markdown",
   "id": "958aeede",
   "metadata": {},
   "source": [
    "Question = 24 >>>  Implement the Pearson and Spearman correlation coefficients for a datase?"
   ]
  },
  {
   "cell_type": "code",
   "execution_count": 43,
   "id": "d3746509",
   "metadata": {},
   "outputs": [
    {
     "name": "stdout",
     "output_type": "stream",
     "text": [
      "Pearson correlation (X vs Y_linear): 0.940, p-value: 0.000\n",
      "Spearman correlation (X vs Y_non_linear): 0.947, p-value: 0.000\n"
     ]
    },
    {
     "data": {
      "image/png": "[encoded data removed]",
      "text/plain": [
       "<Figure size 1200x500 with 2 Axes>"
      ]
     },
     "metadata": {},
     "output_type": "display_data"
    }
   ],
   "source": [
    "import numpy as np\n",
    "import pandas as pd\n",
    "from scipy.stats import pearsonr, spearmanr\n",
    "import matplotlib.pyplot as plt\n",
    "import seaborn as sns\n",
    "\n",
    "# Generate sample data\n",
    "np.random.seed(42)\n",
    "\n",
    "# Create linear relationship (for Pearson)\n",
    "X = np.random.uniform(10, 100, 50)\n",
    "Y = 3 * X + np.random.normal(0, 30, 50)  # Add some noise\n",
    "\n",
    "# Introduce slight non-linearity for Spearman\n",
    "Y_non_linear = np.log(X) * 50 + np.random.normal(0, 10, 50)\n",
    "\n",
    "# Create DataFrame\n",
    "df = pd.DataFrame({'X': X, 'Y_linear': Y, 'Y_non_linear': Y_non_linear})\n",
    "\n",
    "# Pearson correlation (linear)\n",
    "pearson_corr, pearson_p = pearsonr(df['X'], df['Y_linear'])\n",
    "print(f\"Pearson correlation (X vs Y_linear): {pearson_corr:.3f}, p-value: {pearson_p:.3f}\")\n",
    "\n",
    "# Spearman correlation (non-linear)\n",
    "spearman_corr, spearman_p = spearmanr(df['X'], df['Y_non_linear'])\n",
    "print(f\"Spearman correlation (X vs Y_non_linear): {spearman_corr:.3f}, p-value: {spearman_p:.3f}\")\n",
    "\n",
    "# Visualize both relationships\n",
    "plt.figure(figsize=(12, 5))\n",
    "\n",
    "plt.subplot(1, 2, 1)\n",
    "sns.scatterplot(x='X', y='Y_linear', data=df)\n",
    "plt.title('X vs Y_linear (Pearson)')\n",
    "\n",
    "plt.subplot(1, 2, 2)\n",
    "sns.scatterplot(x='X', y='Y_non_linear', data=df)\n",
    "plt.title('X vs Y_non_linear (Spearman)')\n",
    "\n",
    "plt.tight_layout()\n",
    "plt.show()\n"
   ]
  }
 ],
 "metadata": {
  "kernelspec": {
   "display_name": "Python 3",
   "language": "python",
   "name": "python3"
  },
  "language_info": {
   "codemirror_mode": {
    "name": "ipython",
    "version": 3
   },
   "file_extension": ".py",
   "mimetype": "text/x-python",
   "name": "python",
   "nbconvert_exporter": "python",
   "pygments_lexer": "ipython3",
   "version": "3.13.3"
  }
 },
 "nbformat": 4,
 "nbformat_minor": 5
}
